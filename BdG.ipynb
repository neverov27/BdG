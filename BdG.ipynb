{
 "cells": [
  {
   "cell_type": "code",
   "execution_count": 1,
   "metadata": {},
   "outputs": [],
   "source": [
    "import numpy as np\n",
    "import h5py\n",
    "from datetime import datetime"
   ]
  },
  {
   "cell_type": "code",
   "execution_count": 2,
   "metadata": {},
   "outputs": [],
   "source": [
    "import os"
   ]
  },
  {
   "cell_type": "code",
   "execution_count": 3,
   "metadata": {},
   "outputs": [],
   "source": [
    "os.environ[\"MKL_NUM_THREADS\"] = \"12\" \n",
    "os.environ[\"NUMEXPR_NUM_THREADS\"] = \"10\" \n",
    "os.environ[\"OMP_NUM_THREADS\"] = \"12\" "
   ]
  },
  {
   "cell_type": "code",
   "execution_count": 1,
   "metadata": {},
   "outputs": [
    {
     "name": "stdout",
     "output_type": "stream",
     "text": [
      "Writing BdG.py\n"
     ]
    }
   ],
   "source": [
    "\n",
    "def nbrs(cur, x, y):\n",
    "\n",
    "    layer = x * y\n",
    "    xl = (cur - 1) % x + x * (cur // x)\n",
    "    xr = (cur + 1) % x + (cur // x) * x\n",
    "    yl = (cur - x) % layer + layer * (cur // layer)\n",
    "    yr = (cur + x) % layer + layer * (cur // layer)\n",
    "    return xl, xr, yl, yr\n",
    "\n",
    "\n",
    "def make_mtx(x, y, t1):\n",
    "    N = x * y\n",
    "    m = np.zeros((N, N))\n",
    "    for n in range(N):\n",
    "        ns = nbrs(n, x, y)\n",
    "        m[n, [ns]] = t1\n",
    "    return m\n",
    "\n",
    "\n",
    "def recompute_par(evals, evecs, mu_0, N, U):\n",
    "    \n",
    "    indx = np.where(evals >= 0.0)[0]\n",
    "    delta = np.abs(U) * np.sum(evecs[:N, indx] * np.conj(evecs[N:, indx]), axis=1)\n",
    "    n_avg = 2 * np.sum(evecs[N:, indx] ** 2, axis=1)     \n",
    "    mu = mu_0 + 0.5 * np.abs(U) * n_avg\n",
    "    return (delta, mu, n_avg)\n",
    "\n",
    "\n",
    "def construct_H(M, N, U, V, mu, delta):\n",
    "    \n",
    "    h1 = np.concatenate((M - (mu - V) * np.eye(N), delta * np.eye(N)), axis=0)\n",
    "    h2 = np.concatenate((delta * np.eye(N), -M + (mu - V) * np.eye(N)), axis=0)\n",
    "    return np.concatenate((h1, h2), axis=1)\n",
    "\n",
    "\n",
    "def coordinate(number, a, b):\n",
    "    return np.array([number % a, number // b])\n",
    "\n",
    "\n",
    "def distance(i, j, a, b):\n",
    "    dx, dy = coordinate(i, a, b) - coordinate(j, a, b)\n",
    "    if np.abs(dx) > a/2:\n",
    "        dx = a - np.abs(dx)\n",
    "    if np.abs(dy) > b/2:\n",
    "        dy = b - np.abs(dy)\n",
    "    return np.linalg.norm([dx,dy])\n",
    "    #return coordinate(i, a, b) - coordinate(j, a, b))\n",
    "\n",
    "def dd(n, x, y, delta):\n",
    "    data = {}\n",
    "    for i in range(n):\n",
    "        for j in range(n):\n",
    "            rij = distance(i, j, x, y)\n",
    "            if rij not in data:\n",
    "                data[rij] = [delta[i] * delta[j]]\n",
    "            else:\n",
    "                data[rij].append(delta[i] * delta[j])\n",
    "    return data\n",
    "\n",
    "def write(file, e, v, delta, n):\n",
    "    with h5py.File(file) as f:\n",
    "        f.create_dataset(\"evals\", data=e)\n",
    "        f.create_dataset(\"evecs\", data=v)\n",
    "        f.create_dataset(\"delta\", data=delta)\n",
    "        f.create_dataset(\"avg\", data=n)\n",
    "\n",
    "def run(U, M, N, V, delta, max_iterations, tol, mu_0, r, l, point, file):\n",
    "    \n",
    "    avg = 0\n",
    "    while np.abs(point - avg) > tol:\n",
    "        print(f\"{np.round(np.abs(point - avg), 4)}\", end = ' :')\n",
    "        mu = mu_0 + 0.5 * np.abs(U) * np.random.sample(N)\n",
    "        atol = 10\n",
    "        step = 0\n",
    "        while atol > 1e-08 and step < max_iterations:\n",
    "            \n",
    "            H = construct_H(M, N, U, V, mu, delta)\n",
    "            e, v = np.linalg.eigh(H)\n",
    "            delta, mu_new, avg = recompute_par(e, v, mu_0, N, U)\n",
    "            atol = np.linalg.norm(mu_new - mu)\n",
    "            mu = mu_new\n",
    "            step += 1 \n",
    "#         print(f'<n>={np.sum(avg)/N} mu={mu_0}')\n",
    "        avg_dist = avg\n",
    "        avg = np.sum(avg)/N\n",
    "        if point - avg > 0:\n",
    "            l = mu_0\n",
    "        else:\n",
    "            r = mu_0\n",
    "        mu_0 = 0.5 * (r + l)\n",
    "\n",
    "    write(file, e, v, delta, avg_dist)"
   ]
  },
  {
   "cell_type": "code",
   "execution_count": 5,
   "metadata": {},
   "outputs": [
    {
     "name": "stdout",
     "output_type": "stream",
     "text": [
      "U = 2 : 0.125 :0.9632 :0.125 :0.0313 :0.125 :0.0937 :0.0312 :0.0747 :0.0141 :0.0151 :0.0011 :0.0064 :0.0026 ::: Loop time 0.721338\n"
     ]
    },
    {
     "name": "stderr",
     "output_type": "stream",
     "text": [
      "/home/titan/anaconda3/lib/python3.7/site-packages/ipykernel_launcher.py:61: H5pyDeprecationWarning: The default file mode will change to 'r' (read-only) in h5py 3.0. To suppress this warning, pass the mode you need to h5py.File(), or set the global default h5.get_config().default_file_mode, or set the environment variable H5PY_DEFAULT_READONLY=1. Available modes are: 'r', 'r+', 'w', 'w-'/'x', 'a'. See the docs for details.\n"
     ]
    }
   ],
   "source": [
    "M = make_mtx(8, 8, -1)\n",
    "N = M.shape[0]\n",
    "V0 = 0.5\n",
    "V = V0 * (2 * np.random.sample(N) - 1) \n",
    "dirp = f\"data_V{V0:.2f}\"\n",
    "for U in [2]:\n",
    "    print('U = {}'.format(U), end=' : ')\n",
    "    delta = - np.abs(U) * np.random.sample(N)\n",
    "    max_iterations =  2000\n",
    "    tol = 1e-03\n",
    "    mu_0 = -0.9\n",
    "    r = 0\n",
    "    l =-10\n",
    "    point = 0.125\n",
    "    \n",
    "    if not os.path.isdir(dirp):\n",
    "        os.mkdir(dirp)\n",
    "    file = f\"{dirp}/U{U}_point{point}\"\n",
    "    t1 = datetime.now()\n",
    "    run(U, M, N, V, delta, max_iterations, tol, mu_0, r, l, point, file)\n",
    "    t2 = datetime.now()\n",
    "#         data = dd(24 ** 2, 24, 24, delta)\n",
    "    print(':: Loop time {}'.format((t2 - t1).total_seconds()))"
   ]
  },
  {
   "cell_type": "code",
   "execution_count": null,
   "metadata": {},
   "outputs": [],
   "source": []
  },
  {
   "cell_type": "code",
   "execution_count": null,
   "metadata": {},
   "outputs": [],
   "source": []
  }
 ],
 "metadata": {
  "kernelspec": {
   "display_name": "Python 3",
   "language": "python",
   "name": "python3"
  },
  "language_info": {
   "codemirror_mode": {
    "name": "ipython",
    "version": 3
   },
   "file_extension": ".py",
   "mimetype": "text/x-python",
   "name": "python",
   "nbconvert_exporter": "python",
   "pygments_lexer": "ipython3",
   "version": "3.8.5"
  }
 },
 "nbformat": 4,
 "nbformat_minor": 4
}
