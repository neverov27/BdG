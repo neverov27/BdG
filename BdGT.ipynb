{
 "cells": [
  {
   "cell_type": "code",
   "execution_count": 1,
   "metadata": {},
   "outputs": [],
   "source": [
    "import numpy as np\n",
    "import h5py\n",
    "from datetime import datetime"
   ]
  },
  {
   "cell_type": "code",
   "execution_count": 2,
   "metadata": {},
   "outputs": [],
   "source": [
    "import os"
   ]
  },
  {
   "cell_type": "code",
   "execution_count": 3,
   "metadata": {},
   "outputs": [],
   "source": [
    "os.environ[\"MKL_NUM_THREADS\"] = \"10\" \n",
    "os.environ[\"NUMEXPR_NUM_THREADS\"] = \"10\" \n",
    "os.environ[\"OMP_NUM_THREADS\"] = \"10\" "
   ]
  },
  {
   "cell_type": "code",
   "execution_count": 35,
   "metadata": {},
   "outputs": [],
   "source": [
    "def nbrs(cur, x, y):\n",
    "\n",
    "    layer = x * y\n",
    "    xl = (cur - 1) % x + x * (cur // x)\n",
    "    xr = (cur + 1) % x + (cur // x) * x\n",
    "    yl = (cur - x) % layer + layer * (cur // layer)\n",
    "    yr = (cur + x) % layer + layer * (cur // layer)\n",
    "    return xl, xr, yl, yr\n",
    "\n",
    "def nbrs2(cur, x, y):\n",
    "\n",
    "    layer = x * y\n",
    "    lx,ly = nbrs((cur - 1) % x + x * (cur // x), x, y)[2:]\n",
    "    rx,ry = nbrs((cur + 1) % x + x * (cur // x), x, y)[2:]\n",
    "    return lx, ly, rx, ry\n",
    "\n",
    "\n",
    "def make_mtx(x, y, t1, t2 = 0):\n",
    "    N = x * y\n",
    "    m = np.zeros((N, N))\n",
    "    for n in range(N):\n",
    "        ns = nbrs(n, x, y)\n",
    "        m[n, [ns]] = t1\n",
    "        ns = nbrs2(n, x, y)\n",
    "        m[n, [ns]] = t2\n",
    "    return m\n",
    "\n",
    "\n",
    "fermi = lambda e, T: 1. / (np.exp(e / T) + 1)\n",
    "\n",
    "\n",
    "def recompute_par(evals, evecs, mu_0, N, U, T):\n",
    "    \n",
    "    indx = np.where(evals >= 0.0)[0]\n",
    "    delta = np.abs(U) * np.sum(evecs[:N, indx] * np.conj(evecs[N:, indx]) * (1 - 2 * fermi(evals[indx], T)), axis=1)  # sum(uv(1 - 2f))\n",
    "    n_avg = 2 * np.sum(evecs[N:, indx] ** 2 * (1 - fermi(evals[indx], T)) +\n",
    "                       evecs[:N, indx] ** 2 * fermi(evals[indx], T), axis=1)  # n = 2sum(v^2 * (1-f) + u^2*f)     \n",
    "    mu = mu_0 + 0.5 * np.abs(U) * n_avg\n",
    "    return (delta, mu, n_avg)\n",
    "\n",
    "\n",
    "def construct_H(M, N, U, V, mu, delta):\n",
    "    \n",
    "    h1 = np.concatenate((M - (mu - V) * np.eye(N), delta * np.eye(N)), axis=0)\n",
    "    h2 = np.concatenate((delta * np.eye(N), -M + (mu - V) * np.eye(N)), axis=0)\n",
    "    return np.concatenate((h1, h2), axis=1)\n",
    "\n",
    "\n",
    "def coordinate(number, a, b):\n",
    "    return np.array([number % a, number // b])\n",
    "\n",
    "\n",
    "def distance(i, j, a, b):\n",
    "    dx, dy = coordinate(i, a, b) - coordinate(j, a, b)\n",
    "    if np.abs(dx) > a/2:\n",
    "        dx = a - np.abs(dx)\n",
    "    if np.abs(dy) > b/2:\n",
    "        dy = b - np.abs(dy)\n",
    "    return np.linalg.norm([dx,dy])\n",
    "    #return coordinate(i, a, b) - coordinate(j, a, b))\n",
    "\n",
    "def dd(n, x, y, delta):\n",
    "    data = {}\n",
    "    for i in range(n):\n",
    "        for j in range(n):\n",
    "            rij = distance(i, j, x, y)\n",
    "            if rij not in data:\n",
    "                data[rij] = [delta[i] * delta[j]]\n",
    "            else:\n",
    "                data[rij].append(delta[i] * delta[j])\n",
    "    return data\n",
    "\n",
    "def write(file, e, v, delta, n):\n",
    "    with h5py.File(file, 'a') as f:\n",
    "        f.create_dataset(\"evals\", data=e)\n",
    "        f.create_dataset(\"evecs\", data=v)\n",
    "        f.create_dataset(\"delta\", data=delta)\n",
    "        f.create_dataset(\"avg\", data=n)\n",
    "\n",
    "def run(U, M, N, V, delta, T, max_iterations, tol, mu_0, r, l, point, file):\n",
    "    \n",
    "    avg = 0\n",
    "    mstep = 0\n",
    "    while np.abs(point - avg) > tol and mstep < max_iterations:\n",
    "        mstep += 1\n",
    "        #print('mu',mu_0, end = ' :')\n",
    "        print(f\"{np.round(np.abs(point - avg), 4):^7.4f}\", end = ' : ')\n",
    "        mu = mu_0 + 0.00005 * np.abs(U) * np.random.sample(N)\n",
    "        atol = 10\n",
    "        step = 0\n",
    "        while atol > 1e-08 and step < max_iterations:\n",
    "            \n",
    "            H = construct_H(M, N, U, V, mu, delta)\n",
    "            e, v = np.linalg.eigh(H)\n",
    "            delta, mu_new, avg = recompute_par(e, v, mu_0, N, U, T)\n",
    "            atol = np.linalg.norm(mu_new - mu) / np.sum(np.abs(delta))\n",
    "            mu = mu_new\n",
    "            step += 1 \n",
    "            #print(f'<atol>={atol}' )\n",
    "        avg_dist = avg\n",
    "        avg = np.sum(avg)/N\n",
    "        if point - avg > 0:\n",
    "            l = mu_0\n",
    "        else:\n",
    "            r = mu_0\n",
    "        mu_0 = 0.5 * (r + l)\n",
    "\n",
    "    if mstep < max_iterations:\n",
    "        write(file, e, v, delta, avg_dist)\n",
    "    return mu_0"
   ]
  },
  {
   "cell_type": "code",
   "execution_count": 36,
   "metadata": {},
   "outputs": [],
   "source": [
    "t1 = 1\n",
    "t2 = -0.3\n",
    "M = make_mtx(24, 24, t1, t2)\n",
    "N = M.shape[0]\n",
    "U = 0.8\n"
   ]
  },
  {
   "cell_type": "code",
   "execution_count": 39,
   "metadata": {},
   "outputs": [],
   "source": [
    "filling = 0.15\n",
    "distr = np.zeros(N)\n",
    "for i in range(N):\n",
    "    if np.random.rand() < filling:\n",
    "        distr[i] = 1#2 * np.random.rand() - 1"
   ]
  },
  {
   "cell_type": "code",
   "execution_count": 40,
   "metadata": {},
   "outputs": [
    {
     "data": {
      "text/plain": [
       "0.1545138888888889"
      ]
     },
     "execution_count": 40,
     "metadata": {},
     "output_type": "execute_result"
    }
   ],
   "source": [
    "distr.nonzero()[0].shape[0] / N"
   ]
  },
  {
   "cell_type": "code",
   "execution_count": 41,
   "metadata": {},
   "outputs": [],
   "source": [
    "import matplotlib.pyplot as plt"
   ]
  },
  {
   "cell_type": "code",
   "execution_count": 42,
   "metadata": {},
   "outputs": [
    {
     "data": {
      "text/plain": [
       "<matplotlib.image.AxesImage at 0x7fcdca5c0c70>"
      ]
     },
     "execution_count": 42,
     "metadata": {},
     "output_type": "execute_result"
    },
    {
     "data": {
      "image/png": "[encoded data removed]",
      "text/plain": [
       "<Figure size 432x288 with 1 Axes>"
      ]
     },
     "metadata": {
      "needs_background": "light"
     },
     "output_type": "display_data"
    }
   ],
   "source": [
    "plt.imshow(distr.reshape(24,24))"
   ]
  },
  {
   "cell_type": "code",
   "execution_count": null,
   "metadata": {},
   "outputs": [
    {
     "name": "stdout",
     "output_type": "stream",
     "text": [
      "T = 10  : 0.8500  : "
     ]
    },
    {
     "name": "stderr",
     "output_type": "stream",
     "text": [
      "<ipython-input-35-bff15a0d0f8f>:29: RuntimeWarning: overflow encountered in exp\n",
      "  fermi = lambda e, T: 1. / (np.exp(e / T) + 1)\n"
     ]
    },
    {
     "name": "stdout",
     "output_type": "stream",
     "text": [
      "1.1465  : 0.2354  : 0.2646  : "
     ]
    }
   ],
   "source": [
    "V0 = 0.05\n",
    "mu_0 = 2\n",
    "dirp = f\"NNN/data_V{V0:.2f}\"\n",
    "V = V0 * distr\n",
    "for T in np.arange(10, 301, 10):\n",
    "    print('T = {:^3.0f}'.format(T), end=' : ')\n",
    "    delta = - np.abs(U) * np.random.sample(N)\n",
    "    max_iterations =  100\n",
    "    tol = 5e-03\n",
    "    \n",
    "    r = 4\n",
    "    l =-4\n",
    "    point = 0.85\n",
    "    \n",
    "    if not os.path.isdir(dirp):\n",
    "        os.mkdir(dirp)\n",
    "    file = f\"{dirp}/U{U}_point{point}_T{T}\"\n",
    "    t1 = datetime.now()\n",
    "    mu_0 = run(U, M, N, V, delta, T / 11604, max_iterations, tol, mu_0, r, l, point, file)\n",
    "    t2 = datetime.now()\n",
    "#         data = dd(24 ** 2, 24, 24, delta)\n",
    "    print(':: Loop time {}'.format((t2 - t1).total_seconds()))"
   ]
  },
  {
   "cell_type": "code",
   "execution_count": null,
   "metadata": {},
   "outputs": [],
   "source": []
  },
  {
   "cell_type": "markdown",
   "metadata": {},
   "source": [
    "### Corrections"
   ]
  },
  {
   "cell_type": "code",
   "execution_count": 12,
   "metadata": {},
   "outputs": [],
   "source": [
    "Tout = np.arange(130, 301, 10)"
   ]
  },
  {
   "cell_type": "code",
   "execution_count": 13,
   "metadata": {},
   "outputs": [],
   "source": [
    "dirp = f\"NNN/data_V{V0:.2f}\"\n",
    "for T in Tout:\n",
    "    file = f\"{dirp}/U{U}_point{point}_T{T}\"\n",
    "    os.remove(file)"
   ]
  },
  {
   "cell_type": "code",
   "execution_count": 14,
   "metadata": {},
   "outputs": [
    {
     "name": "stdout",
     "output_type": "stream",
     "text": [
      "T = 130 : 0.8500  : 0.5254  : "
     ]
    },
    {
     "name": "stderr",
     "output_type": "stream",
     "text": [
      "<ipython-input-4-97ceb71233bd>:29: RuntimeWarning: overflow encountered in exp\n",
      "  fermi = lambda e, T: 1. / (np.exp(e / T) + 1)\n"
     ]
    },
    {
     "name": "stdout",
     "output_type": "stream",
     "text": [
      "0.8500  : 0.4294  : 0.2179  : 0.0176  : 0.1189  : 0.0545  : 0.0207  : :: Loop time 40.047507\n",
      "T = 140 : 0.8500  : 0.0067  : 0.9139  : 0.6402  : 0.3912  : 0.2253  : 0.1280  : 0.0615  : 0.0298  : 0.0109  : :: Loop time 78.040972\n",
      "T = 150 : 0.8500  : :: Loop time 22.441938\n",
      "T = 160 : 0.8500  : 0.9139  : 0.8496  : 0.5017  : 0.0331  : 0.4859  : 0.2067  : 0.0734  : 0.0164  : 0.0084  : :: Loop time 44.118918\n",
      "T = 170 : 0.8500  : :: Loop time 19.383769\n",
      "T = 180 : 0.8500  : 0.8500  : 0.7041  : 0.3658  : 0.3847  : 0.1392  : 0.0596  : 0.0500  : :: Loop time 26.868754\n",
      "T = 190 : 0.8500  : 0.0283  : 0.8500  : 0.8500  : 0.6080  : 0.3017  : 0.1116  : 0.0404  : :: Loop time 44.47329\n",
      "T = 200 : 0.8500  : 0.0099  : 0.8500  : 0.8500  : 0.6227  : 0.3219  : 0.1320  : 0.0568  : 0.0221  : :: Loop time 77.515966\n",
      "T = 210 : 0.8500  : :: Loop time 16.909524\n",
      "T = 220 : 0.8500  : 0.8500  : 0.7039  : 0.3659  : 0.3847  : 0.1388  : 0.0598  : 0.0500  : :: Loop time 26.672209\n",
      "T = 230 : 0.8500  : 0.0282  : 0.8500  : 0.8500  : 0.6076  : 0.3016  : 0.1119  : 0.0403  : 0.0051  : 0.0099  : :: Loop time 50.744675\n",
      "T = 240 : 0.8500  : :: Loop time 12.992647\n",
      "T = 250 : 0.8500  : 0.9139  : 0.8489  : 0.5015  : 0.0330  : 0.4849  : 0.2068  : 0.0725  : 0.0163  : 0.0091  : :: Loop time 41.700668\n",
      "T = 260 : 0.8500  : :: Loop time 16.592349\n",
      "T = 270 : 0.8500  : 0.8500  : 0.7039  : 0.3654  : 0.3848  : 0.1386  : 0.0597  : 0.0502  : :: Loop time 26.369177\n",
      "T = 280 : 0.8500  : 0.0282  : 0.8500  : 0.8500  : 0.6069  : 0.3011  : 0.1118  : 0.0400  : 0.0052  : 0.0101  : :: Loop time 49.045143\n",
      "T = 290 : 0.8500  : :: Loop time 12.575935\n",
      "T = 300 : 0.8500  : 0.9139  : 0.8485  : 0.5013  : 0.0328  : 0.4846  : 0.2071  : 0.0724  : 0.0164  : 0.0091  : :: Loop time 41.418097\n"
     ]
    }
   ],
   "source": [
    "mu_0 = 1\n",
    "V = V0 * distr\n",
    "for T in Tout:\n",
    "    print('T = {:^3.0f}'.format(T), end=' : ')\n",
    "    delta = - np.abs(U) * np.random.sample(N)\n",
    "    max_iterations =  1000\n",
    "    tol = 5e-03\n",
    "    \n",
    "    r = 10\n",
    "    l =-10\n",
    "    point = 0.85\n",
    "    \n",
    "    if not os.path.isdir(dirp):\n",
    "        os.mkdir(dirp)\n",
    "    file = f\"{dirp}/U{U}_point{point}_T{T}\"\n",
    "    t1 = datetime.now()\n",
    "    mu_0 = run(U, M, N, V, delta, T / 11604, max_iterations, tol, mu_0, r, l, point, file)\n",
    "    t2 = datetime.now()\n",
    "#         data = dd(24 ** 2, 24, 24, delta)\n",
    "    print(':: Loop time {}'.format((t2 - t1).total_seconds()))"
   ]
  },
  {
   "cell_type": "code",
   "execution_count": 93,
   "metadata": {},
   "outputs": [
    {
     "data": {
      "text/plain": [
       "-0.45883122086524963"
      ]
     },
     "execution_count": 93,
     "metadata": {},
     "output_type": "execute_result"
    }
   ],
   "source": [
    "mu_0"
   ]
  },
  {
   "cell_type": "code",
   "execution_count": null,
   "metadata": {},
   "outputs": [],
   "source": []
  }
 ],
 "metadata": {
  "kernelspec": {
   "display_name": "Python 3",
   "language": "python",
   "name": "python3"
  },
  "language_info": {
   "codemirror_mode": {
    "name": "ipython",
    "version": 3
   },
   "file_extension": ".py",
   "mimetype": "text/x-python",
   "name": "python",
   "nbconvert_exporter": "python",
   "pygments_lexer": "ipython3",
   "version": "3.8.5"
  }
 },
 "nbformat": 4,
 "nbformat_minor": 4
}
